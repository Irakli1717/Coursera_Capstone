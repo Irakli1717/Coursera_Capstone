{
 "cells": [
  {
   "cell_type": "markdown",
   "metadata": {},
   "source": [
    "# Opening a fast food restaurant in Baltimore, MD"
   ]
  },
  {
   "cell_type": "markdown",
   "metadata": {},
   "source": [
    "## 1. Introduction"
   ]
  },
  {
   "cell_type": "markdown",
   "metadata": {},
   "source": [
    "### 1.1 Business Problem"
   ]
  },
  {
   "cell_type": "markdown",
   "metadata": {},
   "source": [
    "The objective of this capstone project is to find the most suitable location for the entrepreneur to open a new fast food restaurant in Baltimore, MD. By using data science methods and unsupervised machine learning methods such as clustering, this project aims to provide solutions to answer the business question: In Baltimore, if an entrepreneur wants to open a fast food restaurant, where should they consider opening it?"
   ]
  },
  {
   "cell_type": "markdown",
   "metadata": {},
   "source": [
    "### 1.2 Target Audience"
   ]
  },
  {
   "cell_type": "markdown",
   "metadata": {},
   "source": [
    "The entrepreneur who wants to find the location to open a fast food restaurant in Baltimore"
   ]
  },
  {
   "cell_type": "markdown",
   "metadata": {},
   "source": [
    "## 2. Data"
   ]
  },
  {
   "cell_type": "markdown",
   "metadata": {},
   "source": [
    "### 2.1 Baltimore rent prices dataset"
   ]
  },
  {
   "cell_type": "markdown",
   "metadata": {},
   "source": [
    "This dataset contains average rent prices for standard 1 bedroom apartment for each of 272 Baltimore neighborhoods. Unfortunately, I did not find the similar dataset for commercial real estate, however rent prices ratio among neighborhoods should be more or less similar for residential and commercial real estate. \n",
    "Rent price amount is one of the most important factors in terms of choosing the place for future restaurant. Thats why this variable will be included in the analysis"
   ]
  },
  {
   "cell_type": "markdown",
   "metadata": {},
   "source": [
    "### 2.2 Baltimore crime dataset"
   ]
  },
  {
   "cell_type": "markdown",
   "metadata": {},
   "source": [
    "Baltimore is very far from being a safe city. That is why this dataset will help to determine the safest neighborhoods as every entrepreneur wants to have his business located in a safe area"
   ]
  },
  {
   "cell_type": "markdown",
   "metadata": {},
   "source": [
    "### 2.3 Baltimore population dataset"
   ]
  },
  {
   "cell_type": "markdown",
   "metadata": {},
   "source": [
    "This dataset contains information about population of each of 272 Baltimore neighborhoods. I need this data to determine criminal level in each neighborhood, because absolute number of crimes per neighborhood does not represent safety level since in highly populated neighborhoods there is higher probability of happening more crimes. So, I will divide number of crimes by population to calculate number of crimes per person in Baltimore neighborhoods"
   ]
  },
  {
   "cell_type": "markdown",
   "metadata": {},
   "source": [
    "### 2.4 Foursquare API"
   ]
  },
  {
   "cell_type": "markdown",
   "metadata": {},
   "source": [
    "Foursquare API will allow to retrieve information about the number of popular spots in each neighborhood in Baltimore. This will be another good indication of foot traffic. Calling the Foursquare API returns a JSON file, which can be turned into a dataframe for analysis in python"
   ]
  },
  {
   "cell_type": "code",
   "execution_count": null,
   "metadata": {},
   "outputs": [],
   "source": []
  }
 ],
 "metadata": {
  "kernelspec": {
   "display_name": "Python",
   "language": "python",
   "name": "conda-env-python-py"
  },
  "language_info": {
   "codemirror_mode": {
    "name": "ipython",
    "version": 3
   },
   "file_extension": ".py",
   "mimetype": "text/x-python",
   "name": "python",
   "nbconvert_exporter": "python",
   "pygments_lexer": "ipython3",
   "version": "3.6.10"
  }
 },
 "nbformat": 4,
 "nbformat_minor": 4
}
